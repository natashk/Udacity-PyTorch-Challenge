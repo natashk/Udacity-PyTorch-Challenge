{
  "nbformat": 4,
  "nbformat_minor": 0,
  "metadata": {
    "colab": {
      "name": "Part 6 - Saving and Loading Models.ipynb",
      "version": "0.3.2",
      "provenance": [],
      "include_colab_link": true
    },
    "kernelspec": {
      "name": "python3",
      "display_name": "Python 3"
    },
    "accelerator": "GPU"
  },
  "cells": [
    {
      "cell_type": "markdown",
      "metadata": {
        "id": "view-in-github",
        "colab_type": "text"
      },
      "source": [
        "<a href=\"https://colab.research.google.com/github/natashk/Udacity-PyTorch-Challenge/blob/master/intro-to-pytorch/Part%206%20-%20Saving%20and%20Loading%20Models.ipynb\" target=\"_parent\"><img src=\"https://colab.research.google.com/assets/colab-badge.svg\" alt=\"Open In Colab\"/></a>"
      ]
    },
    {
      "metadata": {
        "id": "bE_4fb7_WJGS",
        "colab_type": "text"
      },
      "cell_type": "markdown",
      "source": [
        "# Saving and Loading Models\n",
        "\n",
        "In this notebook, I'll show you how to save and load models with PyTorch. This is important because you'll often want to load previously trained models to use in making predictions or to continue training on new data."
      ]
    },
    {
      "metadata": {
        "id": "nkva0SpoWpOY",
        "colab_type": "code",
        "colab": {
          "base_uri": "https://localhost:8080/",
          "height": 54
        },
        "outputId": "a4df9b39-733d-4e44-b89f-1229e21d14ce"
      },
      "cell_type": "code",
      "source": [
        "# http://pytorch.org/\n",
        "from os.path import exists\n",
        "from wheel.pep425tags import get_abbr_impl, get_impl_ver, get_abi_tag\n",
        "platform = '{}{}-{}'.format(get_abbr_impl(), get_impl_ver(), get_abi_tag())\n",
        "cuda_output = !ldconfig -p|grep cudart.so|sed -e 's/.*\\.\\([0-9]*\\)\\.\\([0-9]*\\)$/cu\\1\\2/'\n",
        "accelerator = cuda_output[0] if exists('/dev/nvidia0') else 'cpu'\n",
        "\n",
        "!pip install -q http://download.pytorch.org/whl/{accelerator}/torch-0.4.1-{platform}-linux_x86_64.whl torchvision"
      ],
      "execution_count": 1,
      "outputs": [
        {
          "output_type": "stream",
          "text": [
            "tcmalloc: large alloc 1073750016 bytes == 0x59146000 @  0x7f7d79c972a4 0x591a07 0x5b5d56 0x502e9a 0x506859 0x502209 0x502f3d 0x506859 0x504c28 0x502540 0x502f3d 0x506859 0x504c28 0x502540 0x502f3d 0x506859 0x504c28 0x502540 0x502f3d 0x507641 0x502209 0x502f3d 0x506859 0x504c28 0x502540 0x502f3d 0x507641 0x504c28 0x502540 0x502f3d 0x507641\n"
          ],
          "name": "stdout"
        }
      ]
    },
    {
      "metadata": {
        "id": "RY2jcZaUWpyV",
        "colab_type": "code",
        "colab": {
          "base_uri": "https://localhost:8080/",
          "height": 395
        },
        "outputId": "962eb135-9164-48e1-d26c-ca93c531871e"
      },
      "cell_type": "code",
      "source": [
        "!wget https://raw.githubusercontent.com/udacity/deep-learning-v2-pytorch/master/intro-to-pytorch/helper.py\n",
        "!wget -c 'https://raw.githubusercontent.com/udacity/DL_PyTorch/master/fc_model.py'"
      ],
      "execution_count": 2,
      "outputs": [
        {
          "output_type": "stream",
          "text": [
            "--2018-12-21 01:31:25--  https://raw.githubusercontent.com/udacity/deep-learning-v2-pytorch/master/intro-to-pytorch/helper.py\n",
            "Resolving raw.githubusercontent.com (raw.githubusercontent.com)... 151.101.0.133, 151.101.64.133, 151.101.128.133, ...\n",
            "Connecting to raw.githubusercontent.com (raw.githubusercontent.com)|151.101.0.133|:443... connected.\n",
            "HTTP request sent, awaiting response... 200 OK\n",
            "Length: 2813 (2.7K) [text/plain]\n",
            "Saving to: ‘helper.py’\n",
            "\n",
            "\rhelper.py             0%[                    ]       0  --.-KB/s               \rhelper.py           100%[===================>]   2.75K  --.-KB/s    in 0s      \n",
            "\n",
            "2018-12-21 01:31:25 (46.3 MB/s) - ‘helper.py’ saved [2813/2813]\n",
            "\n",
            "--2018-12-21 01:31:26--  https://raw.githubusercontent.com/udacity/DL_PyTorch/master/fc_model.py\n",
            "Resolving raw.githubusercontent.com (raw.githubusercontent.com)... 151.101.0.133, 151.101.64.133, 151.101.128.133, ...\n",
            "Connecting to raw.githubusercontent.com (raw.githubusercontent.com)|151.101.0.133|:443... connected.\n",
            "HTTP request sent, awaiting response... 200 OK\n",
            "Length: 3542 (3.5K) [text/plain]\n",
            "Saving to: ‘fc_model.py’\n",
            "\n",
            "fc_model.py         100%[===================>]   3.46K  --.-KB/s    in 0s      \n",
            "\n",
            "2018-12-21 01:31:26 (67.0 MB/s) - ‘fc_model.py’ saved [3542/3542]\n",
            "\n"
          ],
          "name": "stdout"
        }
      ]
    },
    {
      "metadata": {
        "id": "FlZ-HOvjWJGV",
        "colab_type": "code",
        "colab": {}
      },
      "cell_type": "code",
      "source": [
        "%matplotlib inline\n",
        "%config InlineBackend.figure_format = 'retina'\n",
        "\n",
        "import matplotlib.pyplot as plt\n",
        "\n",
        "import torch\n",
        "from torch import nn\n",
        "from torch import optim\n",
        "import torch.nn.functional as F\n",
        "from torchvision import datasets, transforms\n",
        "\n",
        "import helper\n",
        "import fc_model"
      ],
      "execution_count": 0,
      "outputs": []
    },
    {
      "metadata": {
        "id": "6y0ZptYlWJGa",
        "colab_type": "code",
        "colab": {
          "base_uri": "https://localhost:8080/",
          "height": 120
        },
        "outputId": "dfd6923f-946b-46f2-96ff-774402163218"
      },
      "cell_type": "code",
      "source": [
        "# Define a transform to normalize the data\n",
        "transform = transforms.Compose([transforms.ToTensor(),\n",
        "                                transforms.Normalize((0.5,), (0.5,))])\n",
        "# Download and load the training data\n",
        "trainset = datasets.FashionMNIST('F_MNIST_data/', download=True, train=True, transform=transform)\n",
        "trainloader = torch.utils.data.DataLoader(trainset, batch_size=64, shuffle=True)\n",
        "\n",
        "# Download and load the test data\n",
        "testset = datasets.FashionMNIST('F_MNIST_data/', download=True, train=False, transform=transform)\n",
        "testloader = torch.utils.data.DataLoader(testset, batch_size=64, shuffle=True)"
      ],
      "execution_count": 4,
      "outputs": [
        {
          "output_type": "stream",
          "text": [
            "Downloading http://fashion-mnist.s3-website.eu-central-1.amazonaws.com/train-images-idx3-ubyte.gz\n",
            "Downloading http://fashion-mnist.s3-website.eu-central-1.amazonaws.com/train-labels-idx1-ubyte.gz\n",
            "Downloading http://fashion-mnist.s3-website.eu-central-1.amazonaws.com/t10k-images-idx3-ubyte.gz\n",
            "Downloading http://fashion-mnist.s3-website.eu-central-1.amazonaws.com/t10k-labels-idx1-ubyte.gz\n",
            "Processing...\n",
            "Done!\n"
          ],
          "name": "stdout"
        }
      ]
    },
    {
      "metadata": {
        "id": "t-qN82EDWJGe",
        "colab_type": "text"
      },
      "cell_type": "markdown",
      "source": [
        "Here we can see one of the images."
      ]
    },
    {
      "metadata": {
        "id": "tP61LMRWWJGf",
        "colab_type": "code",
        "colab": {
          "base_uri": "https://localhost:8080/",
          "height": 248
        },
        "outputId": "860da456-13b7-4b75-c83f-49dba20401c4"
      },
      "cell_type": "code",
      "source": [
        "image, label = next(iter(trainloader))\n",
        "helper.imshow(image[0,:]);"
      ],
      "execution_count": 5,
      "outputs": [
        {
          "output_type": "display_data",
          "data": {
            "image/png": "[encoded data removed]",
            "text/plain": [
              "<matplotlib.figure.Figure at 0x7fb9f180fd30>"
            ]
          },
          "metadata": {
            "tags": [],
            "image/png": {
              "width": 231,
              "height": 231
            }
          }
        }
      ]
    },
    {
      "metadata": {
        "id": "SKooKm4kWJGm",
        "colab_type": "text"
      },
      "cell_type": "markdown",
      "source": [
        "# Train a network\n",
        "\n",
        "To make things more concise here, I moved the model architecture and training code from the last part to a file called `fc_model`. Importing this, we can easily create a fully-connected network with `fc_model.Network`, and train the network using `fc_model.train`. I'll use this model (once it's trained) to demonstrate how we can save and load models."
      ]
    },
    {
      "metadata": {
        "id": "iTy1s5qSWJGm",
        "colab_type": "code",
        "colab": {}
      },
      "cell_type": "code",
      "source": [
        "# Create the network, define the criterion and optimizer\n",
        "\n",
        "model = fc_model.Network(784, 10, [512, 256, 128])\n",
        "criterion = nn.NLLLoss()\n",
        "optimizer = optim.Adam(model.parameters(), lr=0.001)"
      ],
      "execution_count": 0,
      "outputs": []
    },
    {
      "metadata": {
        "id": "K4aIJu4aWJGr",
        "colab_type": "code",
        "colab": {
          "base_uri": "https://localhost:8080/",
          "height": 808
        },
        "outputId": "3fc5c231-7dd6-48e7-acf2-56a74d51cfe0"
      },
      "cell_type": "code",
      "source": [
        "fc_model.train(model, trainloader, testloader, criterion, optimizer, epochs=2)"
      ],
      "execution_count": 7,
      "outputs": [
        {
          "output_type": "stream",
          "text": [
            "Epoch: 1/2..  Training Loss: 1.686..  Test Loss: 1.010..  Test Accuracy: 0.645\n",
            "Epoch: 1/2..  Training Loss: 1.056..  Test Loss: 0.763..  Test Accuracy: 0.701\n",
            "Epoch: 1/2..  Training Loss: 0.858..  Test Loss: 0.675..  Test Accuracy: 0.731\n",
            "Epoch: 1/2..  Training Loss: 0.795..  Test Loss: 0.648..  Test Accuracy: 0.745\n",
            "Epoch: 1/2..  Training Loss: 0.745..  Test Loss: 0.614..  Test Accuracy: 0.758\n",
            "Epoch: 1/2..  Training Loss: 0.721..  Test Loss: 0.597..  Test Accuracy: 0.770\n",
            "Epoch: 1/2..  Training Loss: 0.688..  Test Loss: 0.581..  Test Accuracy: 0.772\n",
            "Epoch: 1/2..  Training Loss: 0.651..  Test Loss: 0.571..  Test Accuracy: 0.788\n",
            "Epoch: 1/2..  Training Loss: 0.650..  Test Loss: 0.549..  Test Accuracy: 0.796\n",
            "Epoch: 1/2..  Training Loss: 0.631..  Test Loss: 0.577..  Test Accuracy: 0.789\n",
            "Epoch: 1/2..  Training Loss: 0.623..  Test Loss: 0.581..  Test Accuracy: 0.787\n",
            "Epoch: 1/2..  Training Loss: 0.600..  Test Loss: 0.526..  Test Accuracy: 0.804\n",
            "Epoch: 1/2..  Training Loss: 0.626..  Test Loss: 0.529..  Test Accuracy: 0.813\n",
            "Epoch: 1/2..  Training Loss: 0.597..  Test Loss: 0.537..  Test Accuracy: 0.805\n",
            "Epoch: 1/2..  Training Loss: 0.621..  Test Loss: 0.499..  Test Accuracy: 0.816\n",
            "Epoch: 1/2..  Training Loss: 0.601..  Test Loss: 0.507..  Test Accuracy: 0.816\n",
            "Epoch: 1/2..  Training Loss: 0.596..  Test Loss: 0.496..  Test Accuracy: 0.814\n",
            "Epoch: 1/2..  Training Loss: 0.581..  Test Loss: 0.497..  Test Accuracy: 0.819\n",
            "Epoch: 1/2..  Training Loss: 0.572..  Test Loss: 0.529..  Test Accuracy: 0.806\n",
            "Epoch: 1/2..  Training Loss: 0.585..  Test Loss: 0.488..  Test Accuracy: 0.823\n",
            "Epoch: 1/2..  Training Loss: 0.573..  Test Loss: 0.477..  Test Accuracy: 0.827\n",
            "Epoch: 1/2..  Training Loss: 0.601..  Test Loss: 0.475..  Test Accuracy: 0.829\n",
            "Epoch: 1/2..  Training Loss: 0.575..  Test Loss: 0.489..  Test Accuracy: 0.817\n",
            "Epoch: 2/2..  Training Loss: 0.567..  Test Loss: 0.494..  Test Accuracy: 0.820\n",
            "Epoch: 2/2..  Training Loss: 0.558..  Test Loss: 0.489..  Test Accuracy: 0.820\n",
            "Epoch: 2/2..  Training Loss: 0.545..  Test Loss: 0.475..  Test Accuracy: 0.830\n",
            "Epoch: 2/2..  Training Loss: 0.550..  Test Loss: 0.485..  Test Accuracy: 0.827\n",
            "Epoch: 2/2..  Training Loss: 0.514..  Test Loss: 0.463..  Test Accuracy: 0.829\n",
            "Epoch: 2/2..  Training Loss: 0.548..  Test Loss: 0.468..  Test Accuracy: 0.828\n",
            "Epoch: 2/2..  Training Loss: 0.509..  Test Loss: 0.461..  Test Accuracy: 0.837\n",
            "Epoch: 2/2..  Training Loss: 0.568..  Test Loss: 0.465..  Test Accuracy: 0.825\n",
            "Epoch: 2/2..  Training Loss: 0.550..  Test Loss: 0.460..  Test Accuracy: 0.830\n",
            "Epoch: 2/2..  Training Loss: 0.472..  Test Loss: 0.450..  Test Accuracy: 0.835\n",
            "Epoch: 2/2..  Training Loss: 0.549..  Test Loss: 0.479..  Test Accuracy: 0.828\n",
            "Epoch: 2/2..  Training Loss: 0.540..  Test Loss: 0.459..  Test Accuracy: 0.831\n",
            "Epoch: 2/2..  Training Loss: 0.536..  Test Loss: 0.448..  Test Accuracy: 0.835\n",
            "Epoch: 2/2..  Training Loss: 0.551..  Test Loss: 0.458..  Test Accuracy: 0.832\n",
            "Epoch: 2/2..  Training Loss: 0.523..  Test Loss: 0.449..  Test Accuracy: 0.833\n",
            "Epoch: 2/2..  Training Loss: 0.551..  Test Loss: 0.452..  Test Accuracy: 0.836\n",
            "Epoch: 2/2..  Training Loss: 0.513..  Test Loss: 0.454..  Test Accuracy: 0.831\n",
            "Epoch: 2/2..  Training Loss: 0.511..  Test Loss: 0.445..  Test Accuracy: 0.835\n",
            "Epoch: 2/2..  Training Loss: 0.466..  Test Loss: 0.438..  Test Accuracy: 0.838\n",
            "Epoch: 2/2..  Training Loss: 0.534..  Test Loss: 0.432..  Test Accuracy: 0.838\n",
            "Epoch: 2/2..  Training Loss: 0.489..  Test Loss: 0.442..  Test Accuracy: 0.835\n",
            "Epoch: 2/2..  Training Loss: 0.509..  Test Loss: 0.431..  Test Accuracy: 0.841\n",
            "Epoch: 2/2..  Training Loss: 0.564..  Test Loss: 0.434..  Test Accuracy: 0.840\n"
          ],
          "name": "stdout"
        }
      ]
    },
    {
      "metadata": {
        "id": "4ePqGlNRWJGu",
        "colab_type": "text"
      },
      "cell_type": "markdown",
      "source": [
        "## Saving and loading networks\n",
        "\n",
        "As you can imagine, it's impractical to train a network every time you need to use it. Instead, we can save trained networks then load them later to train more or use them for predictions.\n",
        "\n",
        "The parameters for PyTorch networks are stored in a model's `state_dict`. We can see the state dict contains the weight and bias matrices for each of our layers."
      ]
    },
    {
      "metadata": {
        "id": "sOhm0xYfWJGw",
        "colab_type": "code",
        "colab": {
          "base_uri": "https://localhost:8080/",
          "height": 295
        },
        "outputId": "63dd47fb-aabd-4732-a654-676941b8d8d4"
      },
      "cell_type": "code",
      "source": [
        "print(\"Our model: \\n\\n\", model, '\\n')\n",
        "print(\"The state dict keys: \\n\\n\", model.state_dict().keys())"
      ],
      "execution_count": 8,
      "outputs": [
        {
          "output_type": "stream",
          "text": [
            "Our model: \n",
            "\n",
            " Network(\n",
            "  (hidden_layers): ModuleList(\n",
            "    (0): Linear(in_features=784, out_features=512, bias=True)\n",
            "    (1): Linear(in_features=512, out_features=256, bias=True)\n",
            "    (2): Linear(in_features=256, out_features=128, bias=True)\n",
            "  )\n",
            "  (output): Linear(in_features=128, out_features=10, bias=True)\n",
            "  (dropout): Dropout(p=0.5)\n",
            ") \n",
            "\n",
            "The state dict keys: \n",
            "\n",
            " odict_keys(['hidden_layers.0.weight', 'hidden_layers.0.bias', 'hidden_layers.1.weight', 'hidden_layers.1.bias', 'hidden_layers.2.weight', 'hidden_layers.2.bias', 'output.weight', 'output.bias'])\n"
          ],
          "name": "stdout"
        }
      ]
    },
    {
      "metadata": {
        "id": "4IlL7y17WJGz",
        "colab_type": "text"
      },
      "cell_type": "markdown",
      "source": [
        "The simplest thing to do is simply save the state dict with `torch.save`. For example, we can save it to a file `'checkpoint.pth'`."
      ]
    },
    {
      "metadata": {
        "id": "v7Nt3UVwWJG0",
        "colab_type": "code",
        "colab": {}
      },
      "cell_type": "code",
      "source": [
        "torch.save(model.state_dict(), 'checkpoint.pth')"
      ],
      "execution_count": 0,
      "outputs": []
    },
    {
      "metadata": {
        "id": "Dl7T3LdSWJG4",
        "colab_type": "text"
      },
      "cell_type": "markdown",
      "source": [
        "Then we can load the state dict with `torch.load`."
      ]
    },
    {
      "metadata": {
        "id": "lF4KlxK-WJG7",
        "colab_type": "code",
        "colab": {
          "base_uri": "https://localhost:8080/",
          "height": 54
        },
        "outputId": "18a6a35b-b0cb-4c3b-d373-3cfa227cdc35"
      },
      "cell_type": "code",
      "source": [
        "state_dict = torch.load('checkpoint.pth')\n",
        "print(state_dict.keys())"
      ],
      "execution_count": 10,
      "outputs": [
        {
          "output_type": "stream",
          "text": [
            "odict_keys(['hidden_layers.0.weight', 'hidden_layers.0.bias', 'hidden_layers.1.weight', 'hidden_layers.1.bias', 'hidden_layers.2.weight', 'hidden_layers.2.bias', 'output.weight', 'output.bias'])\n"
          ],
          "name": "stdout"
        }
      ]
    },
    {
      "metadata": {
        "id": "KQcLfXVYWJG_",
        "colab_type": "text"
      },
      "cell_type": "markdown",
      "source": [
        "And to load the state dict in to the network, you do `model.load_state_dict(state_dict)`."
      ]
    },
    {
      "metadata": {
        "id": "8zmyIgPlWJHA",
        "colab_type": "code",
        "colab": {}
      },
      "cell_type": "code",
      "source": [
        "model.load_state_dict(state_dict)"
      ],
      "execution_count": 0,
      "outputs": []
    },
    {
      "metadata": {
        "id": "NF3B2UGXWJHD",
        "colab_type": "text"
      },
      "cell_type": "markdown",
      "source": [
        "Seems pretty straightforward, but as usual it's a bit more complicated. Loading the state dict works only if the model architecture is exactly the same as the checkpoint architecture. If I create a model with a different architecture, this fails."
      ]
    },
    {
      "metadata": {
        "id": "YS2hInUEWJHD",
        "colab_type": "code",
        "colab": {
          "base_uri": "https://localhost:8080/",
          "height": 461
        },
        "outputId": "9e1d57f9-86d1-46e6-f32f-51ffaa7e73ba"
      },
      "cell_type": "code",
      "source": [
        "# Try this\n",
        "model = fc_model.Network(784, 10, [400, 200, 100])\n",
        "# This will throw an error because the tensor sizes are wrong!\n",
        "model.load_state_dict(state_dict)"
      ],
      "execution_count": 12,
      "outputs": [
        {
          "output_type": "error",
          "ename": "RuntimeError",
          "evalue": "ignored",
          "traceback": [
            "\u001b[0;31m---------------------------------------------------------------------------\u001b[0m",
            "\u001b[0;31mRuntimeError\u001b[0m                              Traceback (most recent call last)",
            "\u001b[0;32m<ipython-input-12-cc11e1013989>\u001b[0m in \u001b[0;36m<module>\u001b[0;34m()\u001b[0m\n\u001b[1;32m      1\u001b[0m \u001b[0mmodel\u001b[0m \u001b[0;34m=\u001b[0m \u001b[0mfc_model\u001b[0m\u001b[0;34m.\u001b[0m\u001b[0mNetwork\u001b[0m\u001b[0;34m(\u001b[0m\u001b[0;36m784\u001b[0m\u001b[0;34m,\u001b[0m \u001b[0;36m10\u001b[0m\u001b[0;34m,\u001b[0m \u001b[0;34m[\u001b[0m\u001b[0;36m400\u001b[0m\u001b[0;34m,\u001b[0m \u001b[0;36m200\u001b[0m\u001b[0;34m,\u001b[0m \u001b[0;36m100\u001b[0m\u001b[0;34m]\u001b[0m\u001b[0;34m)\u001b[0m\u001b[0;34m\u001b[0m\u001b[0;34m\u001b[0m\u001b[0m\n\u001b[1;32m      2\u001b[0m \u001b[0;31m# This will throw an error because the tensor sizes are wrong!\u001b[0m\u001b[0;34m\u001b[0m\u001b[0;34m\u001b[0m\u001b[0;34m\u001b[0m\u001b[0m\n\u001b[0;32m----> 3\u001b[0;31m \u001b[0mmodel\u001b[0m\u001b[0;34m.\u001b[0m\u001b[0mload_state_dict\u001b[0m\u001b[0;34m(\u001b[0m\u001b[0mstate_dict\u001b[0m\u001b[0;34m)\u001b[0m\u001b[0;34m\u001b[0m\u001b[0;34m\u001b[0m\u001b[0m\n\u001b[0m",
            "\u001b[0;32m/usr/local/lib/python3.6/dist-packages/torch/nn/modules/module.py\u001b[0m in \u001b[0;36mload_state_dict\u001b[0;34m(self, state_dict, strict)\u001b[0m\n\u001b[1;32m    717\u001b[0m         \u001b[0;32mif\u001b[0m \u001b[0mlen\u001b[0m\u001b[0;34m(\u001b[0m\u001b[0merror_msgs\u001b[0m\u001b[0;34m)\u001b[0m \u001b[0;34m>\u001b[0m \u001b[0;36m0\u001b[0m\u001b[0;34m:\u001b[0m\u001b[0;34m\u001b[0m\u001b[0;34m\u001b[0m\u001b[0m\n\u001b[1;32m    718\u001b[0m             raise RuntimeError('Error(s) in loading state_dict for {}:\\n\\t{}'.format(\n\u001b[0;32m--> 719\u001b[0;31m                                self.__class__.__name__, \"\\n\\t\".join(error_msgs)))\n\u001b[0m\u001b[1;32m    720\u001b[0m \u001b[0;34m\u001b[0m\u001b[0m\n\u001b[1;32m    721\u001b[0m     \u001b[0;32mdef\u001b[0m \u001b[0mparameters\u001b[0m\u001b[0;34m(\u001b[0m\u001b[0mself\u001b[0m\u001b[0;34m)\u001b[0m\u001b[0;34m:\u001b[0m\u001b[0;34m\u001b[0m\u001b[0;34m\u001b[0m\u001b[0m\n",
            "\u001b[0;31mRuntimeError\u001b[0m: Error(s) in loading state_dict for Network:\n\tsize mismatch for hidden_layers.0.weight: copying a param of torch.Size([400, 784]) from checkpoint, where the shape is torch.Size([512, 784]) in current model.\n\tsize mismatch for hidden_layers.0.bias: copying a param of torch.Size([400]) from checkpoint, where the shape is torch.Size([512]) in current model.\n\tsize mismatch for hidden_layers.1.weight: copying a param of torch.Size([200, 400]) from checkpoint, where the shape is torch.Size([256, 512]) in current model.\n\tsize mismatch for hidden_layers.1.bias: copying a param of torch.Size([200]) from checkpoint, where the shape is torch.Size([256]) in current model.\n\tsize mismatch for hidden_layers.2.weight: copying a param of torch.Size([100, 200]) from checkpoint, where the shape is torch.Size([128, 256]) in current model.\n\tsize mismatch for hidden_layers.2.bias: copying a param of torch.Size([100]) from checkpoint, where the shape is torch.Size([128]) in current model.\n\tsize mismatch for output.weight: copying a param of torch.Size([10, 100]) from checkpoint, where the shape is torch.Size([10, 128]) in current model."
          ]
        }
      ]
    },
    {
      "metadata": {
        "id": "iZVfCA_aWJHI",
        "colab_type": "text"
      },
      "cell_type": "markdown",
      "source": [
        "This means we need to rebuild the model exactly as it was when trained. Information about the model architecture needs to be saved in the checkpoint, along with the state dict. To do this, you build a dictionary with all the information you need to compeletely rebuild the model."
      ]
    },
    {
      "metadata": {
        "id": "jb_QNg-1WJHJ",
        "colab_type": "code",
        "colab": {}
      },
      "cell_type": "code",
      "source": [
        "checkpoint = {'input_size': 784,\n",
        "              'output_size': 10,\n",
        "              'hidden_layers': [each.out_features for each in model.hidden_layers],\n",
        "              'state_dict': model.state_dict()}\n",
        "\n",
        "torch.save(checkpoint, 'checkpoint.pth')"
      ],
      "execution_count": 0,
      "outputs": []
    },
    {
      "metadata": {
        "id": "ysPIqz4pWJHM",
        "colab_type": "text"
      },
      "cell_type": "markdown",
      "source": [
        "Now the checkpoint has all the necessary information to rebuild the trained model. You can easily make that a function if you want. Similarly, we can write a function to load checkpoints. "
      ]
    },
    {
      "metadata": {
        "id": "tWsPzL8eWJHN",
        "colab_type": "code",
        "colab": {}
      },
      "cell_type": "code",
      "source": [
        "def load_checkpoint(filepath):\n",
        "    checkpoint = torch.load(filepath)\n",
        "    model = fc_model.Network(checkpoint['input_size'],\n",
        "                             checkpoint['output_size'],\n",
        "                             checkpoint['hidden_layers'])\n",
        "    model.load_state_dict(checkpoint['state_dict'])\n",
        "    \n",
        "    return model"
      ],
      "execution_count": 0,
      "outputs": []
    },
    {
      "metadata": {
        "id": "S12C1P_IWJHR",
        "colab_type": "code",
        "colab": {
          "base_uri": "https://localhost:8080/",
          "height": 172
        },
        "outputId": "74821961-be37-4e1f-d468-73e1679cfc40"
      },
      "cell_type": "code",
      "source": [
        "model = load_checkpoint('checkpoint.pth')\n",
        "print(model)"
      ],
      "execution_count": 15,
      "outputs": [
        {
          "output_type": "stream",
          "text": [
            "Network(\n",
            "  (hidden_layers): ModuleList(\n",
            "    (0): Linear(in_features=784, out_features=400, bias=True)\n",
            "    (1): Linear(in_features=400, out_features=200, bias=True)\n",
            "    (2): Linear(in_features=200, out_features=100, bias=True)\n",
            "  )\n",
            "  (output): Linear(in_features=100, out_features=10, bias=True)\n",
            "  (dropout): Dropout(p=0.5)\n",
            ")\n"
          ],
          "name": "stdout"
        }
      ]
    }
  ]
}